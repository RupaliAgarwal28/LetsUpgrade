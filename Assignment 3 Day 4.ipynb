{
 "cells": [
  {
   "cell_type": "markdown",
   "metadata": {},
   "source": [
    "Question 1"
   ]
  },
  {
   "cell_type": "code",
   "execution_count": null,
   "metadata": {},
   "outputs": [],
   "source": [
    "lower_Range = 1042000 \n",
    "upper_Range = 702648265\n",
    "  \n",
    "for n in range(lower_Range,upper_Range + 1):  \n",
    "   sum = 0  \n",
    "   temp = n  \n",
    "   while temp > 0:  \n",
    "       digit = temp % 10  \n",
    "       sum = sum + digit ** 3  \n",
    "       temp = temp // 10 \n",
    "    \n",
    "  \n",
    "   if n == sum:  \n",
    "       print(\"The First Armstrong Number is \",n) \n",
    "       break"
   ]
  },
  {
   "cell_type": "code",
   "execution_count": null,
   "metadata": {},
   "outputs": [],
   "source": []
  }
 ],
 "metadata": {
  "kernelspec": {
   "display_name": "Python 3",
   "language": "python",
   "name": "python3"
  },
  "language_info": {
   "codemirror_mode": {
    "name": "ipython",
    "version": 3
   },
   "file_extension": ".py",
   "mimetype": "text/x-python",
   "name": "python",
   "nbconvert_exporter": "python",
   "pygments_lexer": "ipython3",
   "version": "3.8.3"
  }
 },
 "nbformat": 4,
 "nbformat_minor": 4
}
